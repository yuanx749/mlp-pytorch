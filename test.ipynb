{
 "nbformat": 4,
 "nbformat_minor": 2,
 "metadata": {
  "language_info": {
   "name": "python",
   "codemirror_mode": {
    "name": "ipython",
    "version": 3
   },
   "version": "3.7.6-final"
  },
  "orig_nbformat": 2,
  "file_extension": ".py",
  "mimetype": "text/x-python",
  "name": "python",
  "npconvert_exporter": "python",
  "pygments_lexer": "ipython3",
  "version": 3,
  "kernelspec": {
   "name": "python37664bit95db2b8cf05b40f49eec1341c9cdc8b0",
   "display_name": "Python 3.7.6 64-bit"
  }
 },
 "cells": [
  {
   "source": [
    "import pandas as pd\n",
    "from sklearn.model_selection import train_test_split, GridSearchCV\n",
    "from sklearn.pipeline import Pipeline\n",
    "from sklearn.preprocessing import StandardScaler\n",
    "from nn import *"
   ],
   "cell_type": "code",
   "outputs": [],
   "metadata": {},
   "execution_count": null
  },
  {
   "source": [
    "data = pd.read_csv('./data/biodeg.csv', sep=';', header=None)\n",
    "X, y = data.to_numpy()[:,:-1], data.to_numpy()[:,-1]\n",
    "X_train, X_test, y_train, y_test = train_test_split(X, y, test_size=0.20, random_state=1)"
   ],
   "cell_type": "code",
   "outputs": [],
   "metadata": {},
   "execution_count": null
  },
  {
   "source": [
    "mlp = MLPClassifier(\n",
    "    hidden_layer_sizes=(100, 100), alpha=0.0001, \n",
    "    batch_size=100, learning_rate=0.001, max_iter=200, \n",
    "    shuffle=True, random_state=0, verbose=True, \n",
    "    validation_fraction=0.1)\n",
    "mlp.fit(X_train, y_train)\n",
    "print(mlp.score(X_train, y_train))\n",
    "print(mlp.score(X_test, y_test))"
   ],
   "cell_type": "code",
   "outputs": [],
   "metadata": {},
   "execution_count": null
  },
  {
   "source": [
    "pipe = Pipeline(steps=[\n",
    "    ('scaler', StandardScaler()), \n",
    "    ('MLP', MLPClassifier(\n",
    "            hidden_layer_sizes=(100, 100), alpha=0.0001, \n",
    "            batch_size=100, learning_rate=0.001, max_iter=200, \n",
    "            shuffle=True, random_state=0, verbose=False, \n",
    "            validation_fraction=0.1))])\n",
    "param_grid = {'MLP__hidden_layer_sizes': list(zip(np.arange(10, 50, 10)))}\n",
    "grid_search = GridSearchCV(pipe, param_grid, cv=3)\n",
    "grid_search.fit(X_train, y_train)\n",
    "print(grid_search.best_params_)\n",
    "print(grid_search.score(X_train, y_train))\n",
    "print(grid_search.score(X_test, y_test))"
   ],
   "cell_type": "code",
   "outputs": [],
   "metadata": {},
   "execution_count": null
  }
 ]
}